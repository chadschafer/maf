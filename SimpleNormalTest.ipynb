{
 "cells": [
  {
   "cell_type": "code",
   "execution_count": 1,
   "id": "da49263d",
   "metadata": {},
   "outputs": [],
   "source": [
    "import torch\n",
    "import numpy as np\n",
    "import matplotlib.pyplot as plt\n",
    "\n",
    "from maf import MAF\n",
    "from made import MADE\n",
    "from datasets.data_loaders import get_data, get_data_loaders\n",
    "from utils.train import train_one_epoch_maf, train_one_epoch_made\n",
    "from utils.validation import val_maf, val_made\n",
    "from utils.test import test_maf, test_made\n",
    "from utils.plot import sample_digits_maf, plot_losses\n",
    "\n",
    "from tqdm import tqdm"
   ]
  },
  {
   "cell_type": "code",
   "execution_count": 2,
   "id": "146c99bd",
   "metadata": {},
   "outputs": [],
   "source": [
    "# --------- SET PARAMETERS ----------\n",
    "model_name = \"maf\"  # 'MAF' or 'MADE'\n",
    "dataset_name = \"chad\"\n",
    "batch_size = 1000\n",
    "n_mades = 1\n",
    "hidden_dims = [1]\n",
    "lr = 1e-3\n",
    "random_order = False\n",
    "patience = 30  # For early stopping\n",
    "seed = 290713\n",
    "plot = False\n",
    "max_epochs = 5000\n",
    "# -----------------------------------"
   ]
  },
  {
   "cell_type": "code",
   "execution_count": 3,
   "id": "1dda0b24",
   "metadata": {},
   "outputs": [],
   "source": [
    "# Get dataset.\n",
    "data = get_data(dataset_name)\n",
    "train = torch.from_numpy(data.train.x)"
   ]
  },
  {
   "cell_type": "code",
   "execution_count": 4,
   "id": "e21392db",
   "metadata": {
    "scrolled": false
   },
   "outputs": [
    {
     "name": "stdout",
     "output_type": "stream",
     "text": [
      "Each input vector is of length 2\n",
      "There are 8100 data vectors\n"
     ]
    }
   ],
   "source": [
    "dimdat = train.shape[1]\n",
    "print('Each input vector is of length',dimdat)\n",
    "print('There are',train.shape[0],'data vectors')"
   ]
  },
  {
   "cell_type": "code",
   "execution_count": 5,
   "id": "e8f985e1",
   "metadata": {
    "scrolled": false
   },
   "outputs": [
    {
     "data": {
      "image/png": "[encoded data removed]",
      "text/plain": [
       "<Figure size 432x288 with 1 Axes>"
      ]
     },
     "metadata": {
      "needs_background": "light"
     },
     "output_type": "display_data"
    }
   ],
   "source": [
    "plt.scatter(torch.detach(train[:,0]), torch.detach(train[:,1]), c =\"blue\", s=0.1)\n",
    "plt.show()"
   ]
  },
  {
   "cell_type": "code",
   "execution_count": 6,
   "id": "2b8b0bb3",
   "metadata": {},
   "outputs": [],
   "source": [
    "# Get data loaders.\n",
    "train_loader, val_loader, test_loader = get_data_loaders(data, batch_size)"
   ]
  },
  {
   "cell_type": "code",
   "execution_count": 7,
   "id": "08913af4",
   "metadata": {},
   "outputs": [],
   "source": [
    "# Get model.\n",
    "n_in = data.n_dims\n",
    "n_in = train.shape[1]\n",
    "if model_name.lower() == \"maf\":\n",
    "    model = MAF(n_in, n_mades, hidden_dims, use_reverse=False)\n",
    "elif model_name.lower() == \"made\":\n",
    "    model = MADE(n_in, hidden_dims, random_order=random_order, seed=seed, gaussian=True)"
   ]
  },
  {
   "cell_type": "code",
   "execution_count": 8,
   "id": "3fe77e17",
   "metadata": {},
   "outputs": [],
   "source": [
    "# Get optimiser.\n",
    "optimiser = torch.optim.Adam(model.parameters(), lr=lr, weight_decay=1e-6)"
   ]
  },
  {
   "cell_type": "code",
   "execution_count": 9,
   "id": "54951055",
   "metadata": {},
   "outputs": [],
   "source": [
    "# Format name of model save file.\n",
    "save_name = f\"{model_name}_{dataset_name}_{'_'.join(str(d) for d in hidden_dims)}.pt\""
   ]
  },
  {
   "cell_type": "code",
   "execution_count": 10,
   "id": "c1d69066",
   "metadata": {},
   "outputs": [],
   "source": [
    "# Initialise list for plotting.\n",
    "epochs_list = []\n",
    "train_losses = []\n",
    "val_losses = []"
   ]
  },
  {
   "cell_type": "code",
   "execution_count": 11,
   "id": "80e274e0",
   "metadata": {},
   "outputs": [],
   "source": [
    "# Initialiise early stopping.\n",
    "i = 0\n",
    "max_loss = np.inf"
   ]
  },
  {
   "cell_type": "code",
   "execution_count": 12,
   "id": "1c60ff20",
   "metadata": {},
   "outputs": [
    {
     "name": "stderr",
     "output_type": "stream",
     "text": [
      "  0%|▏                                                                                                                  | 10/4999 [00:00<01:48, 46.05it/s]"
     ]
    },
    {
     "name": "stdout",
     "output_type": "stream",
     "text": [
      "Epoch: 1 Average loss: 2.97418\n",
      "setting batch stats for validation\n",
      "Validation loss: 2.9789 +/- 0.0701\n",
      "Patience counter: 0/30\n",
      "Epoch: 2 Average loss: 2.96553\n",
      "setting batch stats for validation\n",
      "Validation loss: 2.9704 +/- 0.0698\n",
      "Patience counter: 0/30\n",
      "Epoch: 3 Average loss: 2.95721\n",
      "setting batch stats for validation\n",
      "Validation loss: 2.9622 +/- 0.0696\n",
      "Patience counter: 0/30\n",
      "Epoch: 4 Average loss: 2.94924\n",
      "setting batch stats for validation\n",
      "Validation loss: 2.9544 +/- 0.0695\n",
      "Patience counter: 0/30\n",
      "Epoch: 5 Average loss: 2.94162\n",
      "setting batch stats for validation\n",
      "Validation loss: 2.9469 +/- 0.0693\n",
      "Patience counter: 0/30\n",
      "Epoch: 6 Average loss: 2.93436\n",
      "setting batch stats for validation\n",
      "Validation loss: 2.9398 +/- 0.0692\n",
      "Patience counter: 0/30\n",
      "Epoch: 7 Average loss: 2.92742\n",
      "setting batch stats for validation\n",
      "Validation loss: 2.9329 +/- 0.0690\n",
      "Patience counter: 0/30\n",
      "Epoch: 8 Average loss: 2.92080\n",
      "setting batch stats for validation\n",
      "Validation loss: 2.9264 +/- 0.0689\n",
      "Patience counter: 0/30\n",
      "Epoch: 9 Average loss: 2.91447\n",
      "setting batch stats for validation\n",
      "Validation loss: 2.9202 +/- 0.0688\n",
      "Patience counter: 0/30\n",
      "Epoch: 10 Average loss: 2.90842\n",
      "setting batch stats for validation\n",
      "Validation loss: 2.9143 +/- 0.0687\n",
      "Patience counter: 0/30\n",
      "Epoch: 11 Average loss: 2.90265\n",
      "setting batch stats for validation\n",
      "Validation loss: 2.9086 +/- 0.0686\n",
      "Patience counter: 0/30\n"
     ]
    },
    {
     "name": "stderr",
     "output_type": "stream",
     "text": [
      "  0%|▌                                                                                                                  | 22/4999 [00:00<01:39, 50.26it/s]"
     ]
    },
    {
     "name": "stdout",
     "output_type": "stream",
     "text": [
      "Epoch: 12 Average loss: 2.89715\n",
      "setting batch stats for validation\n",
      "Validation loss: 2.9032 +/- 0.0685\n",
      "Patience counter: 0/30\n",
      "Epoch: 13 Average loss: 2.89188\n",
      "setting batch stats for validation\n",
      "Validation loss: 2.8981 +/- 0.0684\n",
      "Patience counter: 0/30\n",
      "Epoch: 14 Average loss: 2.88684\n",
      "setting batch stats for validation\n",
      "Validation loss: 2.8932 +/- 0.0683\n",
      "Patience counter: 0/30\n",
      "Epoch: 15 Average loss: 2.88204\n",
      "setting batch stats for validation\n",
      "Validation loss: 2.8884 +/- 0.0682\n",
      "Patience counter: 0/30\n",
      "Epoch: 16 Average loss: 2.87745\n",
      "setting batch stats for validation\n",
      "Validation loss: 2.8839 +/- 0.0681\n",
      "Patience counter: 0/30\n",
      "Epoch: 17 Average loss: 2.87309\n",
      "setting batch stats for validation\n",
      "Validation loss: 2.8797 +/- 0.0680\n",
      "Patience counter: 0/30\n",
      "Epoch: 18 Average loss: 2.86894\n",
      "setting batch stats for validation\n",
      "Validation loss: 2.8756 +/- 0.0680\n",
      "Patience counter: 0/30\n",
      "Epoch: 19 Average loss: 2.86504\n",
      "setting batch stats for validation\n",
      "Validation loss: 2.8718 +/- 0.0679\n",
      "Patience counter: 0/30\n",
      "Epoch: 20 Average loss: 2.86136\n",
      "setting batch stats for validation\n",
      "Validation loss: 2.8682 +/- 0.0678\n",
      "Patience counter: 0/30\n",
      "Epoch: 21 Average loss: 2.85787\n",
      "setting batch stats for validation\n",
      "Validation loss: 2.8647 +/- 0.0677\n",
      "Patience counter: 0/30\n",
      "Epoch: 22 Average loss: 2.85459\n",
      "setting batch stats for validation\n",
      "Validation loss: 2.8615 +/- 0.0676\n",
      "Patience counter: 0/30\n"
     ]
    },
    {
     "name": "stderr",
     "output_type": "stream",
     "text": [
      "\r",
      "  1%|▋                                                                                                                  | 28/4999 [00:00<01:37, 51.01it/s]"
     ]
    },
    {
     "name": "stdout",
     "output_type": "stream",
     "text": [
      "Epoch: 23 Average loss: 2.85152\n",
      "setting batch stats for validation\n",
      "Validation loss: 2.8585 +/- 0.0675\n",
      "Patience counter: 0/30\n",
      "Epoch: 24 Average loss: 2.84865\n",
      "setting batch stats for validation\n",
      "Validation loss: 2.8557 +/- 0.0675\n",
      "Patience counter: 0/30\n",
      "Epoch: 25 Average loss: 2.84601\n",
      "setting batch stats for validation\n",
      "Validation loss: 2.8531 +/- 0.0674\n",
      "Patience counter: 0/30\n",
      "Epoch: 26 Average loss: 2.84362\n",
      "setting batch stats for validation\n",
      "Validation loss: 2.8508 +/- 0.0673\n",
      "Patience counter: 0/30\n",
      "Epoch: 27 Average loss: 2.84146\n",
      "setting batch stats for validation\n",
      "Validation loss: 2.8488 +/- 0.0672\n",
      "Patience counter: 0/30\n",
      "Epoch: 28 Average loss: 2.83955\n",
      "setting batch stats for validation\n",
      "Validation loss: 2.8470 +/- 0.0671\n",
      "Patience counter: 0/30\n",
      "Epoch: 29 Average loss: 2.83786\n",
      "setting batch stats for validation\n",
      "Validation loss: 2.8453 +/- 0.0670\n",
      "Patience counter: 0/30\n",
      "Epoch: 30 Average loss: 2.83636\n",
      "setting batch stats for validation\n",
      "Validation loss: 2.8439 +/- 0.0669\n",
      "Patience counter: 0/30\n",
      "Epoch: 31 Average loss: 2.83505\n",
      "setting batch stats for validation\n",
      "Validation loss: 2.8428 +/- 0.0668\n",
      "Patience counter: 0/30\n",
      "Epoch: 32 Average loss: 2.83393\n",
      "setting batch stats for validation\n",
      "Validation loss: 2.8418 +/- 0.0668\n",
      "Patience counter: 0/30\n",
      "Epoch: 33 Average loss: 2.83298\n",
      "setting batch stats for validation\n",
      "Validation loss: 2.8410 +/- 0.0667\n",
      "Patience counter: 0/30\n"
     ]
    },
    {
     "name": "stderr",
     "output_type": "stream",
     "text": [
      "  1%|▉                                                                                                                  | 40/4999 [00:00<01:35, 51.76it/s]"
     ]
    },
    {
     "name": "stdout",
     "output_type": "stream",
     "text": [
      "Epoch: 34 Average loss: 2.83220\n",
      "setting batch stats for validation\n",
      "Validation loss: 2.8403 +/- 0.0667\n",
      "Patience counter: 0/30\n",
      "Epoch: 35 Average loss: 2.83157\n",
      "setting batch stats for validation\n",
      "Validation loss: 2.8398 +/- 0.0666\n",
      "Patience counter: 0/30\n",
      "Epoch: 36 Average loss: 2.83105\n",
      "setting batch stats for validation\n",
      "Validation loss: 2.8393 +/- 0.0666\n",
      "Patience counter: 0/30\n",
      "Epoch: 37 Average loss: 2.83061\n",
      "setting batch stats for validation\n",
      "Validation loss: 2.8389 +/- 0.0665\n",
      "Patience counter: 0/30\n",
      "Epoch: 38 Average loss: 2.83025\n",
      "setting batch stats for validation\n",
      "Validation loss: 2.8385 +/- 0.0665\n",
      "Patience counter: 0/30\n",
      "Epoch: 39 Average loss: 2.82994\n",
      "setting batch stats for validation\n",
      "Validation loss: 2.8382 +/- 0.0664\n",
      "Patience counter: 0/30\n",
      "Epoch: 40 Average loss: 2.82968\n",
      "setting batch stats for validation\n",
      "Validation loss: 2.8380 +/- 0.0664\n",
      "Patience counter: 0/30\n",
      "Epoch: 41 Average loss: 2.82946\n",
      "setting batch stats for validation\n",
      "Validation loss: 2.8378 +/- 0.0664\n",
      "Patience counter: 0/30\n",
      "Epoch: 42 Average loss: 2.82927\n",
      "setting batch stats for validation\n",
      "Validation loss: 2.8377 +/- 0.0664\n",
      "Patience counter: 0/30\n",
      "Epoch: 43 Average loss: 2.82911\n",
      "setting batch stats for validation\n",
      "Validation loss: 2.8375 +/- 0.0663\n",
      "Patience counter: 0/30\n",
      "Epoch: 44 Average loss: 2.82897\n",
      "setting batch stats for validation\n",
      "Validation loss: 2.8374 +/- 0.0663\n",
      "Patience counter: 0/30\n"
     ]
    },
    {
     "name": "stderr",
     "output_type": "stream",
     "text": [
      "  1%|█▏                                                                                                                 | 52/4999 [00:01<01:33, 53.00it/s]"
     ]
    },
    {
     "name": "stdout",
     "output_type": "stream",
     "text": [
      "Epoch: 45 Average loss: 2.82884\n",
      "setting batch stats for validation\n",
      "Validation loss: 2.8373 +/- 0.0663\n",
      "Patience counter: 0/30\n",
      "Epoch: 46 Average loss: 2.82873\n",
      "setting batch stats for validation\n",
      "Validation loss: 2.8372 +/- 0.0663\n",
      "Patience counter: 0/30\n",
      "Epoch: 47 Average loss: 2.82864\n",
      "setting batch stats for validation\n",
      "Validation loss: 2.8371 +/- 0.0663\n",
      "Patience counter: 0/30\n",
      "Epoch: 48 Average loss: 2.82856\n",
      "setting batch stats for validation\n",
      "Validation loss: 2.8370 +/- 0.0662\n",
      "Patience counter: 0/30\n",
      "Epoch: 49 Average loss: 2.82849\n",
      "setting batch stats for validation\n",
      "Validation loss: 2.8370 +/- 0.0662\n",
      "Patience counter: 0/30\n",
      "Epoch: 50 Average loss: 2.82842\n",
      "setting batch stats for validation\n",
      "Validation loss: 2.8369 +/- 0.0662\n",
      "Patience counter: 0/30\n",
      "Epoch: 51 Average loss: 2.82837\n",
      "setting batch stats for validation\n",
      "Validation loss: 2.8369 +/- 0.0662\n",
      "Patience counter: 0/30\n",
      "Epoch: 52 Average loss: 2.82833\n",
      "setting batch stats for validation\n",
      "Validation loss: 2.8368 +/- 0.0662\n",
      "Patience counter: 0/30\n",
      "Epoch: 53 Average loss: 2.82829\n",
      "setting batch stats for validation\n",
      "Validation loss: 2.8368 +/- 0.0662\n",
      "Patience counter: 0/30\n",
      "Epoch: 54 Average loss: 2.82825\n",
      "setting batch stats for validation\n",
      "Validation loss: 2.8368 +/- 0.0662\n",
      "Patience counter: 0/30\n",
      "Epoch: 55 Average loss: 2.82822\n",
      "setting batch stats for validation\n",
      "Validation loss: 2.8367 +/- 0.0662\n",
      "Patience counter: 0/30\n"
     ]
    },
    {
     "name": "stderr",
     "output_type": "stream",
     "text": [
      "  1%|█▍                                                                                                                 | 64/4999 [00:01<01:33, 53.03it/s]"
     ]
    },
    {
     "name": "stdout",
     "output_type": "stream",
     "text": [
      "Epoch: 56 Average loss: 2.82819\n",
      "setting batch stats for validation\n",
      "Validation loss: 2.8367 +/- 0.0662\n",
      "Patience counter: 0/30\n",
      "Epoch: 57 Average loss: 2.82817\n",
      "setting batch stats for validation\n",
      "Validation loss: 2.8367 +/- 0.0662\n",
      "Patience counter: 0/30\n",
      "Epoch: 58 Average loss: 2.82815\n",
      "setting batch stats for validation\n",
      "Validation loss: 2.8367 +/- 0.0662\n",
      "Patience counter: 0/30\n",
      "Epoch: 59 Average loss: 2.82813\n",
      "setting batch stats for validation\n",
      "Validation loss: 2.8367 +/- 0.0662\n",
      "Patience counter: 0/30\n",
      "Epoch: 60 Average loss: 2.82812\n",
      "setting batch stats for validation\n",
      "Validation loss: 2.8367 +/- 0.0662\n",
      "Patience counter: 0/30\n",
      "Epoch: 61 Average loss: 2.82810\n",
      "setting batch stats for validation\n",
      "Validation loss: 2.8366 +/- 0.0662\n",
      "Patience counter: 0/30\n",
      "Epoch: 62 Average loss: 2.82809\n",
      "setting batch stats for validation\n",
      "Validation loss: 2.8366 +/- 0.0661\n",
      "Patience counter: 0/30\n",
      "Epoch: 63 Average loss: 2.82807\n",
      "setting batch stats for validation\n",
      "Validation loss: 2.8366 +/- 0.0661\n",
      "Patience counter: 0/30\n",
      "Epoch: 64 Average loss: 2.82806\n",
      "setting batch stats for validation\n",
      "Validation loss: 2.8366 +/- 0.0661\n",
      "Patience counter: 0/30\n",
      "Epoch: 65 Average loss: 2.82805\n",
      "setting batch stats for validation\n",
      "Validation loss: 2.8366 +/- 0.0661\n",
      "Patience counter: 0/30\n",
      "Epoch: 66 Average loss: 2.82803\n",
      "setting batch stats for validation\n",
      "Validation loss: 2.8366 +/- 0.0661\n",
      "Patience counter: 0/30\n"
     ]
    },
    {
     "name": "stderr",
     "output_type": "stream",
     "text": [
      "\r",
      "  1%|█▌                                                                                                                 | 70/4999 [00:01<01:33, 52.76it/s]"
     ]
    },
    {
     "name": "stdout",
     "output_type": "stream",
     "text": [
      "Epoch: 67 Average loss: 2.82802\n",
      "setting batch stats for validation\n",
      "Validation loss: 2.8366 +/- 0.0661\n",
      "Patience counter: 0/30\n",
      "Epoch: 68 Average loss: 2.82801\n",
      "setting batch stats for validation\n",
      "Validation loss: 2.8366 +/- 0.0661\n",
      "Patience counter: 0/30\n",
      "Epoch: 69 Average loss: 2.82800\n",
      "setting batch stats for validation\n",
      "Validation loss: 2.8366 +/- 0.0661\n",
      "Patience counter: 0/30\n",
      "Epoch: 70 Average loss: 2.82799\n",
      "setting batch stats for validation\n",
      "Validation loss: 2.8366 +/- 0.0661\n",
      "Patience counter: 0/30\n",
      "Epoch: 71 Average loss: 2.82799\n",
      "setting batch stats for validation\n",
      "Validation loss: 2.8365 +/- 0.0661\n",
      "Patience counter: 0/30\n",
      "Epoch: 72 Average loss: 2.82798\n",
      "setting batch stats for validation\n",
      "Validation loss: 2.8365 +/- 0.0661\n",
      "Patience counter: 0/30\n",
      "Epoch: 73 Average loss: 2.82797\n",
      "setting batch stats for validation\n",
      "Validation loss: 2.8365 +/- 0.0661\n",
      "Patience counter: 0/30\n",
      "Epoch: 74 Average loss: 2.82796\n",
      "setting batch stats for validation\n",
      "Validation loss: 2.8365 +/- 0.0661\n",
      "Patience counter: 1/30\n",
      "Epoch: 75 Average loss: 2.82796\n",
      "setting batch stats for validation\n",
      "Validation loss: 2.8365 +/- 0.0661\n",
      "Patience counter: 2/30\n",
      "Epoch: 76 Average loss: 2.82795\n"
     ]
    },
    {
     "name": "stderr",
     "output_type": "stream",
     "text": [
      "  2%|█▉                                                                                                                 | 82/4999 [00:01<01:36, 50.85it/s]"
     ]
    },
    {
     "name": "stdout",
     "output_type": "stream",
     "text": [
      "setting batch stats for validation\n",
      "Validation loss: 2.8365 +/- 0.0661\n",
      "Patience counter: 3/30\n",
      "Epoch: 77 Average loss: 2.82795\n",
      "setting batch stats for validation\n",
      "Validation loss: 2.8365 +/- 0.0661\n",
      "Patience counter: 4/30\n",
      "Epoch: 78 Average loss: 2.82794\n",
      "setting batch stats for validation\n",
      "Validation loss: 2.8365 +/- 0.0661\n",
      "Patience counter: 5/30\n",
      "Epoch: 79 Average loss: 2.82794\n",
      "setting batch stats for validation\n",
      "Validation loss: 2.8365 +/- 0.0661\n",
      "Patience counter: 6/30\n",
      "Epoch: 80 Average loss: 2.82794\n",
      "setting batch stats for validation\n",
      "Validation loss: 2.8365 +/- 0.0661\n",
      "Patience counter: 7/30\n",
      "Epoch: 81 Average loss: 2.82794\n",
      "setting batch stats for validation\n",
      "Validation loss: 2.8365 +/- 0.0661\n",
      "Patience counter: 8/30\n",
      "Epoch: 82 Average loss: 2.82793\n",
      "setting batch stats for validation\n",
      "Validation loss: 2.8365 +/- 0.0661\n",
      "Patience counter: 9/30\n",
      "Epoch: 83 Average loss: 2.82793\n",
      "setting batch stats for validation\n",
      "Validation loss: 2.8365 +/- 0.0661\n",
      "Patience counter: 10/30\n",
      "Epoch: 84 Average loss: 2.82793\n",
      "setting batch stats for validation\n",
      "Validation loss: 2.8365 +/- 0.0661\n",
      "Patience counter: 11/30\n",
      "Epoch: 85 Average loss: 2.82793\n",
      "setting batch stats for validation\n",
      "Validation loss: 2.8365 +/- 0.0661\n",
      "Patience counter: 12/30\n",
      "Epoch: 86 Average loss: 2.82793\n",
      "setting batch stats for validation\n",
      "Validation loss: 2.8365 +/- 0.0661\n",
      "Patience counter: 13/30\n",
      "Epoch: 87 Average loss: 2.82793\n",
      "setting batch stats for validation\n",
      "Validation loss: 2.8365 +/- 0.0661\n",
      "Patience counter: 14/30\n"
     ]
    },
    {
     "name": "stderr",
     "output_type": "stream",
     "text": [
      "  2%|██▏                                                                                                                | 94/4999 [00:01<01:31, 53.62it/s]"
     ]
    },
    {
     "name": "stdout",
     "output_type": "stream",
     "text": [
      "Epoch: 88 Average loss: 2.82792\n",
      "setting batch stats for validation\n",
      "Validation loss: 2.8365 +/- 0.0661\n",
      "Patience counter: 15/30\n",
      "Epoch: 89 Average loss: 2.82792\n",
      "setting batch stats for validation\n",
      "Validation loss: 2.8365 +/- 0.0661\n",
      "Patience counter: 16/30\n",
      "Epoch: 90 Average loss: 2.82792\n",
      "setting batch stats for validation\n",
      "Validation loss: 2.8365 +/- 0.0661\n",
      "Patience counter: 17/30\n",
      "Epoch: 91 Average loss: 2.82792\n",
      "setting batch stats for validation\n",
      "Validation loss: 2.8365 +/- 0.0661\n",
      "Patience counter: 18/30\n",
      "Epoch: 92 Average loss: 2.82792\n",
      "setting batch stats for validation\n",
      "Validation loss: 2.8365 +/- 0.0661\n",
      "Patience counter: 19/30\n",
      "Epoch: 93 Average loss: 2.82792\n",
      "setting batch stats for validation\n",
      "Validation loss: 2.8365 +/- 0.0661\n",
      "Patience counter: 20/30\n",
      "Epoch: 94 Average loss: 2.82792\n",
      "setting batch stats for validation\n",
      "Validation loss: 2.8365 +/- 0.0661\n",
      "Patience counter: 21/30\n",
      "Epoch: 95 Average loss: 2.82792\n",
      "setting batch stats for validation\n",
      "Validation loss: 2.8365 +/- 0.0661\n",
      "Patience counter: 22/30\n",
      "Epoch: 96 Average loss: 2.82792\n",
      "setting batch stats for validation\n",
      "Validation loss: 2.8365 +/- 0.0661\n",
      "Patience counter: 23/30\n",
      "Epoch: 97 Average loss: 2.82792\n",
      "setting batch stats for validation\n",
      "Validation loss: 2.8365 +/- 0.0661\n",
      "Patience counter: 24/30\n",
      "Epoch: 98 Average loss: 2.82792\n",
      "setting batch stats for validation\n",
      "Validation loss: 2.8365 +/- 0.0661\n",
      "Patience counter: 25/30\n",
      "Epoch: 99 Average loss: 2.82792\n",
      "setting batch stats for validation\n",
      "Validation loss: 2.8365 +/- 0.0661\n",
      "Patience counter: 26/30\n"
     ]
    },
    {
     "name": "stderr",
     "output_type": "stream",
     "text": [
      "  2%|██▎                                                                                                               | 102/4999 [00:01<01:35, 51.42it/s]"
     ]
    },
    {
     "name": "stdout",
     "output_type": "stream",
     "text": [
      "Epoch: 100 Average loss: 2.82792\n",
      "setting batch stats for validation\n",
      "Validation loss: 2.8365 +/- 0.0661\n",
      "Patience counter: 27/30\n",
      "Epoch: 101 Average loss: 2.82792\n",
      "setting batch stats for validation\n",
      "Validation loss: 2.8365 +/- 0.0661\n",
      "Patience counter: 28/30\n",
      "Epoch: 102 Average loss: 2.82792\n",
      "setting batch stats for validation\n",
      "Validation loss: 2.8365 +/- 0.0661\n",
      "Patience counter: 29/30\n",
      "Epoch: 103 Average loss: 2.82792\n",
      "setting batch stats for validation\n",
      "Validation loss: 2.8365 +/- 0.0661\n",
      "Patience counter: 30/30\n",
      " Terminate training!\n"
     ]
    },
    {
     "name": "stderr",
     "output_type": "stream",
     "text": [
      "\n"
     ]
    }
   ],
   "source": [
    "# Training loop.\n",
    "for epoch in tqdm(range(1, max_epochs)):\n",
    "    if model_name == \"maf\":\n",
    "        train_loss = train_one_epoch_maf(model, epoch, optimiser, train_loader)\n",
    "        val_loss = val_maf(model, train, val_loader)\n",
    "    elif model_name == \"made\":\n",
    "        train_loss = train_one_epoch_made(model, epoch, optimiser, train_loader)\n",
    "        val_loss = val_made(model, val_loader)\n",
    "    if plot:\n",
    "        sample_digits_maf(model, epoch, random_order=random_order, seed=5)\n",
    "\n",
    "    epochs_list.append(epoch)\n",
    "    train_losses.append(train_loss)\n",
    "    val_losses.append(val_loss)\n",
    "\n",
    "    # Early stopping. Save model on each epoch with improvement.\n",
    "    if val_loss < max_loss:\n",
    "        i = 0\n",
    "        max_loss = val_loss\n",
    "        torch.save(\n",
    "            model, \"model_saves/\" + save_name\n",
    "        )  # Will print a UserWarning 1st epoch.\n",
    "    else:\n",
    "        i += 1\n",
    "\n",
    "    if i < patience:\n",
    "        print(\"Patience counter: {}/{}\".format(i, patience))\n",
    "    else:\n",
    "        print(\"Patience counter: {}/{}\\n Terminate training!\".format(i, patience))\n",
    "        break"
   ]
  },
  {
   "cell_type": "code",
   "execution_count": 13,
   "id": "3942966e",
   "metadata": {},
   "outputs": [
    {
     "data": {
      "text/plain": [
       "MAF(\n",
       "  (layers): ModuleList(\n",
       "    (0): MAFLayer(\n",
       "      (made): MADE(\n",
       "        (model): Sequential(\n",
       "          (0): MaskedLinear(in_features=2, out_features=1, bias=True)\n",
       "          (1): ReLU()\n",
       "          (2): MaskedLinear(in_features=1, out_features=4, bias=True)\n",
       "        )\n",
       "      )\n",
       "    )\n",
       "    (1): BatchNormLayer()\n",
       "  )\n",
       ")"
      ]
     },
     "execution_count": 13,
     "metadata": {},
     "output_type": "execute_result"
    }
   ],
   "source": [
    "model.train()"
   ]
  },
  {
   "cell_type": "code",
   "execution_count": 14,
   "id": "f2ccbbd4",
   "metadata": {
    "scrolled": false
   },
   "outputs": [
    {
     "data": {
      "text/plain": [
       "[Parameter containing:\n",
       " tensor([[ 0.0929, -0.0651]], requires_grad=True),\n",
       " Parameter containing:\n",
       " tensor([-0.3100], requires_grad=True),\n",
       " Parameter containing:\n",
       " tensor([[-0.5167],\n",
       "         [-0.3583],\n",
       "         [ 0.2437],\n",
       "         [ 0.2315]], requires_grad=True),\n",
       " Parameter containing:\n",
       " tensor([ 0.9964,  0.5437, -0.0994, -0.2589], requires_grad=True),\n",
       " Parameter containing:\n",
       " tensor([[0.0009, 0.0009]], requires_grad=True),\n",
       " Parameter containing:\n",
       " tensor([[-2.3360e-08,  4.6347e-06]], requires_grad=True)]"
      ]
     },
     "execution_count": 14,
     "metadata": {},
     "output_type": "execute_result"
    }
   ],
   "source": [
    "list(model.parameters())"
   ]
  },
  {
   "cell_type": "code",
   "execution_count": 15,
   "id": "c78a88d8",
   "metadata": {
    "scrolled": true
   },
   "outputs": [],
   "source": [
    "from scipy.stats import multivariate_normal\n",
    "\n",
    "truedens = multivariate_normal.pdf(train,np.zeros(dimdat),np.identity(dimdat))"
   ]
  },
  {
   "cell_type": "code",
   "execution_count": 16,
   "id": "354cdc77",
   "metadata": {},
   "outputs": [],
   "source": [
    "foo = model(torch.tensor(data.train.x))"
   ]
  },
  {
   "cell_type": "code",
   "execution_count": 17,
   "id": "8a9b0fb9",
   "metadata": {
    "scrolled": true
   },
   "outputs": [],
   "source": [
    "estdens=multivariate_normal.pdf(torch.detach(foo[0]),np.zeros(dimdat),np.identity(dimdat))*np.exp(np.array(torch.detach(foo[1])))"
   ]
  },
  {
   "cell_type": "code",
   "execution_count": 18,
   "id": "872dde52",
   "metadata": {},
   "outputs": [],
   "source": [
    "distfromcent = np.sqrt(train[:,0]**2 + train[:,1]**2)"
   ]
  },
  {
   "cell_type": "code",
   "execution_count": 19,
   "id": "0ec8c16f",
   "metadata": {},
   "outputs": [
    {
     "data": {
      "image/png": "[encoded data removed]",
      "text/plain": [
       "<Figure size 432x288 with 1 Axes>"
      ]
     },
     "metadata": {
      "needs_background": "light"
     },
     "output_type": "display_data"
    },
    {
     "data": {
      "image/png": "[encoded data removed]",
      "text/plain": [
       "<Figure size 432x288 with 1 Axes>"
      ]
     },
     "metadata": {
      "needs_background": "light"
     },
     "output_type": "display_data"
    },
    {
     "data": {
      "image/png": "[encoded data removed]",
      "text/plain": [
       "<Figure size 432x288 with 1 Axes>"
      ]
     },
     "metadata": {
      "needs_background": "light"
     },
     "output_type": "display_data"
    },
    {
     "data": {
      "image/png": "[encoded data removed]",
      "text/plain": [
       "<Figure size 432x288 with 1 Axes>"
      ]
     },
     "metadata": {
      "needs_background": "light"
     },
     "output_type": "display_data"
    },
    {
     "data": {
      "image/png": "[encoded data removed]",
      "text/plain": [
       "<Figure size 432x288 with 1 Axes>"
      ]
     },
     "metadata": {
      "needs_background": "light"
     },
     "output_type": "display_data"
    },
    {
     "data": {
      "image/png": "[encoded data removed]",
      "text/plain": [
       "<Figure size 432x288 with 1 Axes>"
      ]
     },
     "metadata": {
      "needs_background": "light"
     },
     "output_type": "display_data"
    },
    {
     "data": {
      "image/png": "[encoded data removed]",
      "text/plain": [
       "<Figure size 432x288 with 1 Axes>"
      ]
     },
     "metadata": {
      "needs_background": "light"
     },
     "output_type": "display_data"
    },
    {
     "data": {
      "image/png": "[encoded data removed]",
      "text/plain": [
       "<Figure size 432x288 with 1 Axes>"
      ]
     },
     "metadata": {
      "needs_background": "light"
     },
     "output_type": "display_data"
    },
    {
     "data": {
      "image/png": "[encoded data removed]",
      "text/plain": [
       "<Figure size 432x288 with 1 Axes>"
      ]
     },
     "metadata": {
      "needs_background": "light"
     },
     "output_type": "display_data"
    },
    {
     "data": {
      "image/png": "[encoded data removed]",
      "text/plain": [
       "<Figure size 432x288 with 1 Axes>"
      ]
     },
     "metadata": {
      "needs_background": "light"
     },
     "output_type": "display_data"
    },
    {
     "data": {
      "image/png": "[encoded data removed]",
      "text/plain": [
       "<Figure size 432x288 with 1 Axes>"
      ]
     },
     "metadata": {
      "needs_background": "light"
     },
     "output_type": "display_data"
    },
    {
     "data": {
      "image/png": "[encoded data removed]",
      "text/plain": [
       "<Figure size 432x288 with 1 Axes>"
      ]
     },
     "metadata": {
      "needs_background": "light"
     },
     "output_type": "display_data"
    }
   ],
   "source": [
    "plt.scatter(torch.detach(foo[0][:,0]), torch.detach(foo[0][:,1]), c =\"blue\",s=0.1)\n",
    "plt.xlim([-4,4])\n",
    "plt.ylim([-4,4])\n",
    "plt.show()\n",
    "\n",
    "plt.scatter(torch.detach(foo[0][:,0]), torch.detach(foo[1]), c =\"blue\",s=0.1)\n",
    "plt.show()\n",
    "\n",
    "plt.scatter(torch.detach(foo[0][:,1]), torch.detach(foo[1]), c =\"blue\",s=0.1)\n",
    "plt.show()\n",
    "\n",
    "plt.scatter(torch.detach(foo[0][:,0]), truedens, c =\"blue\",s=0.1)\n",
    "plt.show()\n",
    "\n",
    "plt.scatter(torch.detach(foo[0][:,1]), truedens, c =\"blue\",s=0.1)\n",
    "plt.show()\n",
    "\n",
    "plt.scatter(np.exp(torch.detach(foo[0][:,1])), truedens, c =\"blue\",s=0.1)\n",
    "plt.show()\n",
    "\n",
    "plt.scatter(torch.detach(foo[1]), truedens, c =\"blue\",s=0.1)\n",
    "plt.show()\n",
    "\n",
    "plt.scatter(distfromcent, truedens, c =\"blue\",s=0.1)\n",
    "plt.show()\n",
    "\n",
    "plt.scatter(torch.detach(foo[0][:,0]), distfromcent, c =\"blue\",s=0.1)\n",
    "plt.show()\n",
    "\n",
    "plt.scatter(distfromcent, torch.detach(foo[0][:,0]), c =\"blue\",s=0.1)\n",
    "plt.show()\n",
    "\n",
    "plt.scatter(torch.detach(foo[0][:,1]), distfromcent, c =\"blue\",s=0.1)\n",
    "plt.show()\n",
    "\n",
    "plt.scatter(distfromcent, torch.detach(foo[1]), c =\"blue\",s=0.1)\n",
    "plt.show()"
   ]
  },
  {
   "cell_type": "code",
   "execution_count": 20,
   "id": "7e668410",
   "metadata": {
    "scrolled": true
   },
   "outputs": [
    {
     "data": {
      "image/png": "[encoded data removed]",
      "text/plain": [
       "<Figure size 432x288 with 1 Axes>"
      ]
     },
     "metadata": {
      "needs_background": "light"
     },
     "output_type": "display_data"
    }
   ],
   "source": [
    "plt.scatter(truedens, estdens, c =\"blue\",s=0.1)\n",
    "plt.show()"
   ]
  },
  {
   "cell_type": "markdown",
   "id": "bc2e7ccf",
   "metadata": {},
   "source": [
    "# THE STEPS\n",
    "\n",
    "The steps below reconstruct the passage of the training set through the network.\n",
    "\n",
    "Note that this code is only designed to work with a single node in a single layer."
   ]
  },
  {
   "cell_type": "code",
   "execution_count": 21,
   "id": "b17f05f0",
   "metadata": {},
   "outputs": [
    {
     "data": {
      "text/plain": [
       "MAF(\n",
       "  (layers): ModuleList(\n",
       "    (0): MAFLayer(\n",
       "      (made): MADE(\n",
       "        (model): Sequential(\n",
       "          (0): MaskedLinear(in_features=2, out_features=1, bias=True)\n",
       "          (1): ReLU()\n",
       "          (2): MaskedLinear(in_features=1, out_features=4, bias=True)\n",
       "        )\n",
       "      )\n",
       "    )\n",
       "    (1): BatchNormLayer()\n",
       "  )\n",
       ")"
      ]
     },
     "execution_count": 21,
     "metadata": {},
     "output_type": "execute_result"
    }
   ],
   "source": [
    "model"
   ]
  },
  {
   "cell_type": "markdown",
   "id": "cb5751a4",
   "metadata": {},
   "source": [
    "This is the training set."
   ]
  },
  {
   "cell_type": "code",
   "execution_count": 22,
   "id": "e0617c13",
   "metadata": {
    "scrolled": true
   },
   "outputs": [
    {
     "data": {
      "text/plain": [
       "tensor([[ 0.4904, -0.1470],\n",
       "        [ 0.6399,  1.5220],\n",
       "        [-0.2333, -0.2433],\n",
       "        ...,\n",
       "        [ 1.8092, -0.8637],\n",
       "        [-0.2077, -0.5469],\n",
       "        [-0.5501,  0.1710]])"
      ]
     },
     "execution_count": 22,
     "metadata": {},
     "output_type": "execute_result"
    }
   ],
   "source": [
    "torch.tensor(data.train.x)"
   ]
  },
  {
   "cell_type": "markdown",
   "id": "0fee1730",
   "metadata": {},
   "source": [
    "These are the complete weights of the model."
   ]
  },
  {
   "cell_type": "code",
   "execution_count": 23,
   "id": "2532cf70",
   "metadata": {
    "scrolled": false
   },
   "outputs": [
    {
     "data": {
      "text/plain": [
       "[Parameter containing:\n",
       " tensor([[ 0.0929, -0.0651]], requires_grad=True),\n",
       " Parameter containing:\n",
       " tensor([-0.3100], requires_grad=True),\n",
       " Parameter containing:\n",
       " tensor([[-0.5167],\n",
       "         [-0.3583],\n",
       "         [ 0.2437],\n",
       "         [ 0.2315]], requires_grad=True),\n",
       " Parameter containing:\n",
       " tensor([ 0.9964,  0.5437, -0.0994, -0.2589], requires_grad=True),\n",
       " Parameter containing:\n",
       " tensor([[0.0009, 0.0009]], requires_grad=True),\n",
       " Parameter containing:\n",
       " tensor([[-2.3360e-08,  4.6347e-06]], requires_grad=True)]"
      ]
     },
     "execution_count": 23,
     "metadata": {},
     "output_type": "execute_result"
    }
   ],
   "source": [
    "list(model.parameters())"
   ]
  },
  {
   "cell_type": "markdown",
   "id": "c9f7b116",
   "metadata": {},
   "source": [
    "The first set of weights."
   ]
  },
  {
   "cell_type": "code",
   "execution_count": 24,
   "id": "97ad0ef6",
   "metadata": {},
   "outputs": [
    {
     "data": {
      "text/plain": [
       "tensor([ 0.0929, -0.0651], grad_fn=<SelectBackward0>)"
      ]
     },
     "execution_count": 24,
     "metadata": {},
     "output_type": "execute_result"
    }
   ],
   "source": [
    "list(model.parameters())[0][0]"
   ]
  },
  {
   "cell_type": "markdown",
   "id": "c97ccf2d",
   "metadata": {},
   "source": [
    "Take the product of the training set and the set of weights."
   ]
  },
  {
   "cell_type": "code",
   "execution_count": 25,
   "id": "ccd94018",
   "metadata": {
    "scrolled": true
   },
   "outputs": [],
   "source": [
    "foo5 = torch.matmul(torch.tensor(data.train.x),list(model.parameters())[0].reshape(2,1))"
   ]
  },
  {
   "cell_type": "markdown",
   "id": "5e0b6da8",
   "metadata": {},
   "source": [
    "Add on the bias term."
   ]
  },
  {
   "cell_type": "code",
   "execution_count": 26,
   "id": "973a96ed",
   "metadata": {
    "scrolled": true
   },
   "outputs": [],
   "source": [
    "foo6 = foo5 + list(model.parameters())[1]"
   ]
  },
  {
   "cell_type": "markdown",
   "id": "993804f6",
   "metadata": {},
   "source": [
    "Apply ReLU"
   ]
  },
  {
   "cell_type": "code",
   "execution_count": 27,
   "id": "c318f947",
   "metadata": {
    "scrolled": false
   },
   "outputs": [],
   "source": [
    "foo7 = torch.maximum(foo6,torch.zeros([torch.tensor(data.train.x).shape[0],1]))"
   ]
  },
  {
   "cell_type": "markdown",
   "id": "3363d3e5",
   "metadata": {},
   "source": [
    "This gets multiplied times the next set of weights, and the bias term is added."
   ]
  },
  {
   "cell_type": "code",
   "execution_count": 28,
   "id": "d08de929",
   "metadata": {},
   "outputs": [
    {
     "data": {
      "text/plain": [
       "Parameter containing:\n",
       "tensor([[-0.5167],\n",
       "        [-0.3583],\n",
       "        [ 0.2437],\n",
       "        [ 0.2315]], requires_grad=True)"
      ]
     },
     "execution_count": 28,
     "metadata": {},
     "output_type": "execute_result"
    }
   ],
   "source": [
    "list(model.parameters())[2]"
   ]
  },
  {
   "cell_type": "code",
   "execution_count": 29,
   "id": "c7debc6c",
   "metadata": {
    "scrolled": false
   },
   "outputs": [
    {
     "data": {
      "text/plain": [
       "tensor([[-0.5167, -0.3583,  0.2437,  0.2315]], grad_fn=<ReshapeAliasBackward0>)"
      ]
     },
     "execution_count": 29,
     "metadata": {},
     "output_type": "execute_result"
    }
   ],
   "source": [
    "list(model.parameters())[2].reshape(1,4)"
   ]
  },
  {
   "cell_type": "code",
   "execution_count": 30,
   "id": "06716b22",
   "metadata": {},
   "outputs": [
    {
     "data": {
      "text/plain": [
       "Parameter containing:\n",
       "tensor([ 0.9964,  0.5437, -0.0994, -0.2589], requires_grad=True)"
      ]
     },
     "execution_count": 30,
     "metadata": {},
     "output_type": "execute_result"
    }
   ],
   "source": [
    "list(model.parameters())[3]"
   ]
  },
  {
   "cell_type": "code",
   "execution_count": 31,
   "id": "acb7f88c",
   "metadata": {
    "scrolled": true
   },
   "outputs": [],
   "source": [
    "foo8 = torch.matmul(foo7,list(model.parameters())[2].reshape(1,4))+list(model.parameters())[3]"
   ]
  },
  {
   "cell_type": "markdown",
   "id": "f9138458",
   "metadata": {},
   "source": [
    "This is of n by 4. The first two columns are the f_mu function evaluated at the two input values, while the second two columns are the f_alpha function evaluated at these same points."
   ]
  },
  {
   "cell_type": "code",
   "execution_count": 32,
   "id": "981c929b",
   "metadata": {},
   "outputs": [],
   "source": [
    "[mu,alpha]=foo8.chunk(2,1)"
   ]
  },
  {
   "cell_type": "code",
   "execution_count": 33,
   "id": "9b7fdaa8",
   "metadata": {
    "scrolled": true
   },
   "outputs": [
    {
     "data": {
      "text/plain": [
       "tensor([[0.9964, 0.5437],\n",
       "        [0.9964, 0.5437],\n",
       "        [0.9964, 0.5437],\n",
       "        ...,\n",
       "        [0.9964, 0.5437],\n",
       "        [0.9964, 0.5437],\n",
       "        [0.9964, 0.5437]], grad_fn=<SplitBackward0>)"
      ]
     },
     "execution_count": 33,
     "metadata": {},
     "output_type": "execute_result"
    }
   ],
   "source": [
    "mu"
   ]
  },
  {
   "cell_type": "code",
   "execution_count": 34,
   "id": "c335f2f3",
   "metadata": {
    "scrolled": true
   },
   "outputs": [
    {
     "data": {
      "text/plain": [
       "tensor([[-0.0994, -0.2589],\n",
       "        [-0.0994, -0.2589],\n",
       "        [-0.0994, -0.2589],\n",
       "        ...,\n",
       "        [-0.0994, -0.2589],\n",
       "        [-0.0994, -0.2589],\n",
       "        [-0.0994, -0.2589]], grad_fn=<SplitBackward0>)"
      ]
     },
     "execution_count": 34,
     "metadata": {},
     "output_type": "execute_result"
    }
   ],
   "source": [
    "alpha"
   ]
  },
  {
   "cell_type": "markdown",
   "id": "694ca055",
   "metadata": {},
   "source": [
    "Compare this with Equation (4) in the paper."
   ]
  },
  {
   "cell_type": "code",
   "execution_count": 35,
   "id": "9667d817",
   "metadata": {
    "scrolled": false
   },
   "outputs": [],
   "source": [
    "usubi = (torch.tensor(data.train.x) - mu)*torch.exp(0.5*alpha)"
   ]
  },
  {
   "cell_type": "markdown",
   "id": "5612bdf7",
   "metadata": {},
   "source": [
    "Compare this with the following"
   ]
  },
  {
   "cell_type": "code",
   "execution_count": 36,
   "id": "54f611b3",
   "metadata": {},
   "outputs": [],
   "source": [
    "AfterLayer0 = model.layers[0](torch.tensor(data.train.x))"
   ]
  },
  {
   "cell_type": "code",
   "execution_count": 37,
   "id": "219ec67c",
   "metadata": {
    "scrolled": true
   },
   "outputs": [
    {
     "data": {
      "text/plain": [
       "tensor([[-0.4815, -0.6068],\n",
       "        [-0.3392,  0.8596],\n",
       "        [-1.1701, -0.6915],\n",
       "        ...,\n",
       "        [ 0.7735, -1.2365],\n",
       "        [-1.1457, -0.9582],\n",
       "        [-1.4715, -0.3275]], grad_fn=<MulBackward0>)"
      ]
     },
     "execution_count": 37,
     "metadata": {},
     "output_type": "execute_result"
    }
   ],
   "source": [
    "AfterLayer0[0]"
   ]
  },
  {
   "cell_type": "code",
   "execution_count": 38,
   "id": "76a3f1cf",
   "metadata": {},
   "outputs": [
    {
     "data": {
      "text/plain": [
       "tensor([[-0.4815, -0.6068],\n",
       "        [-0.3392,  0.8596],\n",
       "        [-1.1701, -0.6915],\n",
       "        ...,\n",
       "        [ 0.7735, -1.2365],\n",
       "        [-1.1457, -0.9582],\n",
       "        [-1.4715, -0.3275]], grad_fn=<MulBackward0>)"
      ]
     },
     "execution_count": 38,
     "metadata": {},
     "output_type": "execute_result"
    }
   ],
   "source": [
    "usubi"
   ]
  },
  {
   "cell_type": "code",
   "execution_count": 39,
   "id": "8a44b3aa",
   "metadata": {
    "scrolled": false
   },
   "outputs": [
    {
     "data": {
      "text/plain": [
       "tensor([22, 22])"
      ]
     },
     "execution_count": 39,
     "metadata": {},
     "output_type": "execute_result"
    }
   ],
   "source": [
    "sum(abs(AfterLayer0[0] - usubi)>0)"
   ]
  },
  {
   "cell_type": "markdown",
   "id": "966ad3ca",
   "metadata": {},
   "source": [
    "This should look like a bivariate standard normal."
   ]
  },
  {
   "cell_type": "code",
   "execution_count": 40,
   "id": "8d56207d",
   "metadata": {
    "scrolled": true
   },
   "outputs": [
    {
     "data": {
      "image/png": "[encoded data removed]",
      "text/plain": [
       "<Figure size 432x288 with 1 Axes>"
      ]
     },
     "metadata": {
      "needs_background": "light"
     },
     "output_type": "display_data"
    }
   ],
   "source": [
    "plt.scatter(torch.detach(usubi[:,0]), torch.detach(usubi[:,1]), c =\"blue\", s=0.1)\n",
    "plt.show()"
   ]
  },
  {
   "cell_type": "code",
   "execution_count": 41,
   "id": "5b692483",
   "metadata": {},
   "outputs": [
    {
     "name": "stdout",
     "output_type": "stream",
     "text": [
      "tensor([-0.9483, -0.4825], grad_fn=<MeanBackward1>)\n",
      "tensor([0.9038, 0.7738], grad_fn=<VarBackward0>)\n"
     ]
    }
   ],
   "source": [
    "print(torch.mean(usubi,0))\n",
    "print(torch.var(usubi,0))"
   ]
  },
  {
   "cell_type": "code",
   "execution_count": 42,
   "id": "4b58d033",
   "metadata": {},
   "outputs": [
    {
     "data": {
      "text/plain": [
       "Parameter containing:\n",
       "tensor([[0.0009, 0.0009]], requires_grad=True)"
      ]
     },
     "execution_count": 42,
     "metadata": {},
     "output_type": "execute_result"
    }
   ],
   "source": [
    "model.layers[1].gamma"
   ]
  },
  {
   "cell_type": "markdown",
   "id": "aa5e03db",
   "metadata": {},
   "source": [
    "These two should give the same result."
   ]
  },
  {
   "cell_type": "code",
   "execution_count": 43,
   "id": "dcc01712",
   "metadata": {
    "scrolled": true
   },
   "outputs": [
    {
     "data": {
      "text/plain": [
       "tensor(0., grad_fn=<SumBackward0>)"
      ]
     },
     "execution_count": 43,
     "metadata": {},
     "output_type": "execute_result"
    }
   ],
   "source": [
    "AfterLayer1 = model(torch.tensor(data.train.x))\n",
    "AfterLayer1b = model.layers[1](AfterLayer0[0])\n",
    "\n",
    "abs(AfterLayer1[0] - AfterLayer1b[0]).sum()"
   ]
  },
  {
   "cell_type": "markdown",
   "id": "67a91a20",
   "metadata": {},
   "source": [
    "You might think that the following would give the same as well..."
   ]
  },
  {
   "cell_type": "code",
   "execution_count": 44,
   "id": "b59f6c32",
   "metadata": {},
   "outputs": [],
   "source": [
    "from batch_norm_layer import BatchNormLayer\n",
    "\n",
    "bn = BatchNormLayer(2)\n",
    "foo10 = bn(usubi)"
   ]
  },
  {
   "cell_type": "markdown",
   "id": "711dd939",
   "metadata": {},
   "source": [
    "...but it does not:"
   ]
  },
  {
   "cell_type": "code",
   "execution_count": 45,
   "id": "f2ffe0ba",
   "metadata": {},
   "outputs": [
    {
     "data": {
      "text/plain": [
       "tensor(12.7249, grad_fn=<SumBackward0>)"
      ]
     },
     "execution_count": 45,
     "metadata": {},
     "output_type": "execute_result"
    }
   ],
   "source": [
    "abs(AfterLayer1[0] - foo10[0]).sum()"
   ]
  },
  {
   "cell_type": "markdown",
   "id": "68ce1400",
   "metadata": {},
   "source": [
    "The reason for the difference is in the `gamma` parameter used by `BatchNormLayer`."
   ]
  },
  {
   "cell_type": "code",
   "execution_count": 46,
   "id": "1d593ce0",
   "metadata": {},
   "outputs": [
    {
     "name": "stdout",
     "output_type": "stream",
     "text": [
      "Parameter containing:\n",
      "tensor([[0.0009, 0.0009]], requires_grad=True)\n",
      "Parameter containing:\n",
      "tensor([[0., 0.]], requires_grad=True)\n"
     ]
    }
   ],
   "source": [
    "print(model.layers[1].gamma)\n",
    "\n",
    "print(bn.gamma)"
   ]
  },
  {
   "cell_type": "markdown",
   "id": "185cb0e1",
   "metadata": {},
   "source": [
    "Redo the batch normalization using the same value of `gamma`."
   ]
  },
  {
   "cell_type": "code",
   "execution_count": 51,
   "id": "1abacefd",
   "metadata": {},
   "outputs": [
    {
     "data": {
      "text/plain": [
       "tensor(1.1229, grad_fn=<SumBackward0>)"
      ]
     },
     "execution_count": 51,
     "metadata": {},
     "output_type": "execute_result"
    }
   ],
   "source": [
    "bn.gamma = model.layers[1].gamma\n",
    "foo10 = bn(usubi)\n",
    "abs(AfterLayer1[0] - foo10[0]).sum()"
   ]
  },
  {
   "cell_type": "markdown",
   "id": "95f9edd7",
   "metadata": {},
   "source": [
    "There is not perfect agreement, but the results below show that it is quite close."
   ]
  },
  {
   "cell_type": "code",
   "execution_count": 48,
   "id": "94cb6155",
   "metadata": {},
   "outputs": [
    {
     "data": {
      "text/plain": [
       "tensor(0.0525, grad_fn=<UnbindBackward0>)"
      ]
     },
     "execution_count": 48,
     "metadata": {},
     "output_type": "execute_result"
    }
   ],
   "source": [
    "max(abs(AfterLayer1[0][:,0]-foo10[0][:,0]))"
   ]
  },
  {
   "cell_type": "code",
   "execution_count": 49,
   "id": "ea830462",
   "metadata": {},
   "outputs": [
    {
     "data": {
      "text/plain": [
       "tensor(0.0089, grad_fn=<UnbindBackward0>)"
      ]
     },
     "execution_count": 49,
     "metadata": {},
     "output_type": "execute_result"
    }
   ],
   "source": [
    "max(abs(AfterLayer1[0][:,1]-foo10[0][:,1]))"
   ]
  },
  {
   "cell_type": "code",
   "execution_count": 50,
   "id": "e77e9bd8",
   "metadata": {
    "scrolled": true
   },
   "outputs": [
    {
     "data": {
      "image/png": "[encoded data removed]",
      "text/plain": [
       "<Figure size 432x288 with 1 Axes>"
      ]
     },
     "metadata": {
      "needs_background": "light"
     },
     "output_type": "display_data"
    },
    {
     "data": {
      "image/png": "[encoded data removed]",
      "text/plain": [
       "<Figure size 432x288 with 1 Axes>"
      ]
     },
     "metadata": {
      "needs_background": "light"
     },
     "output_type": "display_data"
    }
   ],
   "source": [
    "plt.scatter(torch.detach(foo10[0][:,0]), torch.detach(AfterLayer1[0][:,0]), c =\"blue\",s=0.1)\n",
    "plt.show()\n",
    "\n",
    "plt.scatter(torch.detach(foo10[0][:,1]), torch.detach(AfterLayer1[0][:,1]), c =\"blue\",s=0.1)\n",
    "plt.show()"
   ]
  },
  {
   "cell_type": "code",
   "execution_count": null,
   "id": "3d816577",
   "metadata": {},
   "outputs": [],
   "source": []
  }
 ],
 "metadata": {
  "kernelspec": {
   "display_name": "Python 3 (ipykernel)",
   "language": "python",
   "name": "python3"
  },
  "language_info": {
   "codemirror_mode": {
    "name": "ipython",
    "version": 3
   },
   "file_extension": ".py",
   "mimetype": "text/x-python",
   "name": "python",
   "nbconvert_exporter": "python",
   "pygments_lexer": "ipython3",
   "version": "3.7.3"
  }
 },
 "nbformat": 4,
 "nbformat_minor": 5
}
